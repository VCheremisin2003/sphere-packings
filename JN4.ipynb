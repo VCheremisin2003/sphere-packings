{
 "cells": [
  {
   "cell_type": "code",
   "execution_count": 51,
   "id": "96bbf3b5-1344-4a43-85ee-a3252253bf4e",
   "metadata": {},
   "outputs": [],
   "source": [
    "import itertools\n",
    "import numpy as np\n",
    "import time"
   ]
  },
  {
   "cell_type": "code",
   "execution_count": 3,
   "id": "d0070f19-e502-404c-a5e5-d9614e068db2",
   "metadata": {},
   "outputs": [],
   "source": [
    "#Собираем массив с числами сочетаний\n",
    "def C(n, k):\n",
    "    if k == n or k == 0:\n",
    "        return 1\n",
    "    if k != 1:\n",
    "        return C(n-1, k) + C(n-1, k-1)\n",
    "    else:\n",
    "        return n\n",
    "\n",
    "C_mas = []\n",
    "for i in range(25):\n",
    "    C_mas.append(C(24, i))\n"
   ]
  },
  {
   "cell_type": "code",
   "execution_count": 170,
   "id": "cf569e81-4819-4cf8-ba01-e2a8609c122b",
   "metadata": {},
   "outputs": [],
   "source": [
    "#Вычисление чисел Рамануджана\n",
    "def t(m):\n",
    "    m = 2*m\n",
    "    answer = 0\n",
    "    massive = [{2:1}]\n",
    "    for r in range(int((m-2)/2)):\n",
    "        r += 1\n",
    "        d = {0:1}\n",
    "        j = 1\n",
    "        while j < 25 and 2*r*j <= m:\n",
    "            d[2*r*j] = C_mas[j] * ((-1)**j)\n",
    "            j += 1\n",
    "        massive.append(d)\n",
    "\n",
    "    mass_keys = []\n",
    "    for i in range(len(massive)):\n",
    "        mass_keys.append(list(massive[i].keys()))\n",
    "\n",
    "    for nabor in itertools.product(*mass_keys):\n",
    "        if sum(list(nabor)) == m:\n",
    "            koef = 1\n",
    "            for j in range(len(list(nabor))):\n",
    "                koef = koef * massive[j][nabor[j]]\n",
    "            answer += koef\n",
    "    return answer"
   ]
  },
  {
   "cell_type": "code",
   "execution_count": 89,
   "id": "bea74a68-ca73-4bb5-bde4-f240fccce23c",
   "metadata": {},
   "outputs": [],
   "source": [
    "#Вычисдение sigma_11\n",
    "\n",
    "def sigma_11(m):\n",
    "    ans = 0\n",
    "    for i in range(m):\n",
    "        i += 1\n",
    "        if m % i == 0:\n",
    "            ans += i ** 11\n",
    "    return ans\n",
    "    "
   ]
  },
  {
   "cell_type": "code",
   "execution_count": 185,
   "id": "e3b2da3b-c9fe-45db-8f6b-0d37de4a9d34",
   "metadata": {},
   "outputs": [],
   "source": [
    "def N(m):\n",
    "    return int((sigma_11(int(m/2)) - t(int(m/2))) * 65520 / 691)"
   ]
  },
  {
   "cell_type": "code",
   "execution_count": 191,
   "id": "4e8a8b12-0f18-4d36-8c07-7ec0b4e77677",
   "metadata": {},
   "outputs": [
    {
     "name": "stdout",
     "output_type": "stream",
     "text": [
      "N(2) =  0\n",
      "N(4) =  196560\n",
      "N(6) =  16773120\n",
      "N(8) =  398034000\n",
      "N(10) =  4629381120\n",
      "N(12) =  34417656000\n",
      "N(14) =  187489935360\n",
      "N(16) =  814879774800\n",
      "N(18) =  2975551488000\n",
      "N(20) =  9486551299680\n",
      "N(22) =  27052945920000\n",
      "N(24) =  70486236999360\n",
      "N(26) =  169931095326720\n",
      "N(28) =  384163586352000\n",
      "N(30) =  820166620815360\n",
      "N(32) =  1668890090322000\n",
      "N(34) =  3249631112232960\n",
      "N(36) =  6096882661243920\n",
      "N(38) =  11045500816896000\n",
      "N(40) =  19428439855275360\n"
     ]
    }
   ],
   "source": [
    "for i in range(20):\n",
    "    i += 1\n",
    "    print(f\"N({2*i}) = \", N(2*i))"
   ]
  }
 ],
 "metadata": {
  "kernelspec": {
   "display_name": "Python 3 (ipykernel)",
   "language": "python",
   "name": "python3"
  },
  "language_info": {
   "codemirror_mode": {
    "name": "ipython",
    "version": 3
   },
   "file_extension": ".py",
   "mimetype": "text/x-python",
   "name": "python",
   "nbconvert_exporter": "python",
   "pygments_lexer": "ipython3",
   "version": "3.12.3"
  }
 },
 "nbformat": 4,
 "nbformat_minor": 5
}
